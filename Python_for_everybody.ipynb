{
  "nbformat": 4,
  "nbformat_minor": 0,
  "metadata": {
    "colab": {
      "provenance": [],
      "authorship_tag": "ABX9TyMuzdiG92XB/Y6Zv2IbaQlv",
      "include_colab_link": true
    },
    "kernelspec": {
      "name": "python3",
      "display_name": "Python 3"
    },
    "language_info": {
      "name": "python"
    }
  },
  "cells": [
    {
      "cell_type": "markdown",
      "metadata": {
        "id": "view-in-github",
        "colab_type": "text"
      },
      "source": [
        "<a href=\"https://colab.research.google.com/github/mlbfalchetti/Python/blob/main/Python_for_everybody.ipynb\" target=\"_parent\"><img src=\"https://colab.research.google.com/assets/colab-badge.svg\" alt=\"Open In Colab\"/></a>"
      ]
    },
    {
      "cell_type": "code",
      "execution_count": 1,
      "metadata": {
        "colab": {
          "base_uri": "https://localhost:8080/"
        },
        "id": "ANGhkExnv_TY",
        "outputId": "2ce92d09-f01e-4e5a-8fb8-05787377e204"
      },
      "outputs": [
        {
          "output_type": "stream",
          "name": "stdout",
          "text": [
            "hello world\n"
          ]
        }
      ],
      "source": [
        "print(\"hello world\")"
      ]
    },
    {
      "cell_type": "code",
      "source": [
        "x = 2\n",
        "print(x)\n",
        "x = x + 2\n",
        "print(x)"
      ],
      "metadata": {
        "colab": {
          "base_uri": "https://localhost:8080/"
        },
        "id": "zUgpLFbcziYD",
        "outputId": "febaaedc-c3e3-4665-99a3-e1fc2fd7f1f9"
      },
      "execution_count": 6,
      "outputs": [
        {
          "output_type": "stream",
          "name": "stdout",
          "text": [
            "2\n",
            "4\n"
          ]
        }
      ]
    },
    {
      "cell_type": "code",
      "source": [
        "x = 2\n",
        "if x < 10 :\n",
        "  print(\"< than 10\")\n",
        "if x > 10 :\n",
        "  print(\"> than 10\")\n",
        "print(\"The end\")"
      ],
      "metadata": {
        "colab": {
          "base_uri": "https://localhost:8080/"
        },
        "id": "Ge0Q6iCJ1gvL",
        "outputId": "7f39b16c-8db9-4c43-bf95-5f6ac65389db"
      },
      "execution_count": 7,
      "outputs": [
        {
          "output_type": "stream",
          "name": "stdout",
          "text": [
            "< than 10\n",
            "The end\n"
          ]
        }
      ]
    },
    {
      "cell_type": "code",
      "source": [
        "x = 5\n",
        "while x > 0 :\n",
        "  print(x)\n",
        "  x = x - 1\n",
        "print(\"The end\")"
      ],
      "metadata": {
        "colab": {
          "base_uri": "https://localhost:8080/"
        },
        "id": "xW1MEsAB2CH5",
        "outputId": "cc4e81d7-1daf-4479-f692-d3d7fe064695"
      },
      "execution_count": 9,
      "outputs": [
        {
          "output_type": "stream",
          "name": "stdout",
          "text": [
            "5\n",
            "4\n",
            "3\n",
            "2\n",
            "1\n",
            "The end\n"
          ]
        }
      ]
    },
    {
      "cell_type": "code",
      "source": [
        "x = 2\n",
        "\n",
        "y = x + 2\n",
        "print(y)\n",
        "\n",
        "y = x * x\n",
        "print(y)\n",
        "\n",
        "y = x / x\n",
        "print(y)\n",
        "\n",
        "y = x % x\n",
        "print(y)\n",
        "\n",
        "y = x ** x\n",
        "print(y)"
      ],
      "metadata": {
        "colab": {
          "base_uri": "https://localhost:8080/"
        },
        "id": "34zBPg-L2aCO",
        "outputId": "6eded414-441d-4839-a30d-077b4d6178bb"
      },
      "execution_count": 10,
      "outputs": [
        {
          "output_type": "stream",
          "name": "stdout",
          "text": [
            "4\n",
            "4\n",
            "1.0\n",
            "0\n",
            "4\n"
          ]
        }
      ]
    },
    {
      "cell_type": "code",
      "source": [
        "# Operator precedence rules\n",
        "\n",
        "# Parenthesis\n",
        "# **\n",
        "# *; / \n",
        "# +; -\n",
        "# Left to right"
      ],
      "metadata": {
        "id": "HMQes0uu6N49"
      },
      "execution_count": null,
      "outputs": []
    },
    {
      "cell_type": "code",
      "source": [],
      "metadata": {
        "id": "eSMfzXAr7FSf"
      },
      "execution_count": null,
      "outputs": []
    }
  ]
}