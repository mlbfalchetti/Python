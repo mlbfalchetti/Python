{
  "nbformat": 4,
  "nbformat_minor": 0,
  "metadata": {
    "colab": {
      "provenance": [],
      "authorship_tag": "ABX9TyOrm5RBF2LhU1vww09SaQlN",
      "include_colab_link": true
    },
    "kernelspec": {
      "name": "python3",
      "display_name": "Python 3"
    },
    "language_info": {
      "name": "python"
    }
  },
  "cells": [
    {
      "cell_type": "markdown",
      "metadata": {
        "id": "view-in-github",
        "colab_type": "text"
      },
      "source": [
        "<a href=\"https://colab.research.google.com/github/mlbfalchetti/Python/blob/main/Python_for_everybody.ipynb\" target=\"_parent\"><img src=\"https://colab.research.google.com/assets/colab-badge.svg\" alt=\"Open In Colab\"/></a>"
      ]
    },
    {
      "cell_type": "code",
      "execution_count": 1,
      "metadata": {
        "colab": {
          "base_uri": "https://localhost:8080/"
        },
        "id": "ANGhkExnv_TY",
        "outputId": "2ce92d09-f01e-4e5a-8fb8-05787377e204"
      },
      "outputs": [
        {
          "output_type": "stream",
          "name": "stdout",
          "text": [
            "hello world\n"
          ]
        }
      ],
      "source": [
        "print(\"hello world\")"
      ]
    },
    {
      "cell_type": "code",
      "source": [
        "x = 2\n",
        "print(x)\n",
        "x = x + 2\n",
        "print(x)"
      ],
      "metadata": {
        "colab": {
          "base_uri": "https://localhost:8080/"
        },
        "id": "zUgpLFbcziYD",
        "outputId": "febaaedc-c3e3-4665-99a3-e1fc2fd7f1f9"
      },
      "execution_count": 6,
      "outputs": [
        {
          "output_type": "stream",
          "name": "stdout",
          "text": [
            "2\n",
            "4\n"
          ]
        }
      ]
    },
    {
      "cell_type": "code",
      "source": [
        "x = 2\n",
        "if x < 10 :\n",
        "  print(\"< than 10\")\n",
        "if x > 10 :\n",
        "  print(\"> than 10\")\n",
        "print(\"The end\")"
      ],
      "metadata": {
        "colab": {
          "base_uri": "https://localhost:8080/"
        },
        "id": "Ge0Q6iCJ1gvL",
        "outputId": "7f39b16c-8db9-4c43-bf95-5f6ac65389db"
      },
      "execution_count": 7,
      "outputs": [
        {
          "output_type": "stream",
          "name": "stdout",
          "text": [
            "< than 10\n",
            "The end\n"
          ]
        }
      ]
    },
    {
      "cell_type": "code",
      "source": [
        "x = 5\n",
        "while x > 0 :\n",
        "  print(x)\n",
        "  x = x - 1\n",
        "print(\"The end\")"
      ],
      "metadata": {
        "colab": {
          "base_uri": "https://localhost:8080/"
        },
        "id": "xW1MEsAB2CH5",
        "outputId": "cc4e81d7-1daf-4479-f692-d3d7fe064695"
      },
      "execution_count": 9,
      "outputs": [
        {
          "output_type": "stream",
          "name": "stdout",
          "text": [
            "5\n",
            "4\n",
            "3\n",
            "2\n",
            "1\n",
            "The end\n"
          ]
        }
      ]
    },
    {
      "cell_type": "code",
      "source": [
        "x = 2\n",
        "\n",
        "y = x + 2\n",
        "print(y)\n",
        "\n",
        "y = x * x\n",
        "print(y)\n",
        "\n",
        "y = x / x\n",
        "print(y)\n",
        "\n",
        "y = x % x\n",
        "print(y)\n",
        "\n",
        "y = x ** x\n",
        "print(y)"
      ],
      "metadata": {
        "colab": {
          "base_uri": "https://localhost:8080/"
        },
        "id": "34zBPg-L2aCO",
        "outputId": "6eded414-441d-4839-a30d-077b4d6178bb"
      },
      "execution_count": 10,
      "outputs": [
        {
          "output_type": "stream",
          "name": "stdout",
          "text": [
            "4\n",
            "4\n",
            "1.0\n",
            "0\n",
            "4\n"
          ]
        }
      ]
    },
    {
      "cell_type": "code",
      "source": [
        "# Operator precedence rules\n",
        "\n",
        "# Parenthesis\n",
        "# **\n",
        "# *; / \n",
        "# +; -\n",
        "# Left to right"
      ],
      "metadata": {
        "id": "HMQes0uu6N49"
      },
      "execution_count": null,
      "outputs": []
    },
    {
      "cell_type": "code",
      "source": [
        "x = 1 + 2 # Sum\n",
        "print(x)\n",
        "\n",
        "x = \"Hello, \" + \"world\" # Concatenate\n",
        "print(x)\n",
        "\n",
        "# x = \"Hello, \" + 1 # Error\n",
        "\n",
        "type(\"Hello, \")\n",
        "\n",
        "type(1)"
      ],
      "metadata": {
        "colab": {
          "base_uri": "https://localhost:8080/"
        },
        "id": "eSMfzXAr7FSf",
        "outputId": "e8aca1ba-74f6-4a3b-d91b-22d6f306d3c3"
      },
      "execution_count": 16,
      "outputs": [
        {
          "output_type": "stream",
          "name": "stdout",
          "text": [
            "3\n",
            "Hello, world\n"
          ]
        },
        {
          "output_type": "execute_result",
          "data": {
            "text/plain": [
              "int"
            ]
          },
          "metadata": {},
          "execution_count": 16
        }
      ]
    },
    {
      "cell_type": "code",
      "source": [
        "print(float(1) + 2) # To float"
      ],
      "metadata": {
        "colab": {
          "base_uri": "https://localhost:8080/"
        },
        "id": "AssR4Z7P8L0t",
        "outputId": "1cdfadec-9aa1-4137-fae2-01816d0d41b2"
      },
      "execution_count": 17,
      "outputs": [
        {
          "output_type": "stream",
          "name": "stdout",
          "text": [
            "3.0\n"
          ]
        }
      ]
    },
    {
      "cell_type": "code",
      "source": [
        "print(10 / 2) # Integer division produces a floating point in Python 3.x"
      ],
      "metadata": {
        "colab": {
          "base_uri": "https://localhost:8080/"
        },
        "id": "rtSnvIiN8_az",
        "outputId": "13a34da0-27c3-481f-cc9f-84e266cf6f0b"
      },
      "execution_count": 20,
      "outputs": [
        {
          "output_type": "stream",
          "name": "stdout",
          "text": [
            "5.0\n"
          ]
        }
      ]
    },
    {
      "cell_type": "code",
      "source": [
        "my_input = input(\"Europe floor? \")\n",
        "\n",
        "my_output = int(my_input) + 1\n",
        "\n",
        "print(\"US floor:\", my_output)"
      ],
      "metadata": {
        "colab": {
          "base_uri": "https://localhost:8080/"
        },
        "id": "5XLUZEumupx4",
        "outputId": "2b657b62-f538-4343-9120-01060f4c23fd"
      },
      "execution_count": 4,
      "outputs": [
        {
          "output_type": "stream",
          "name": "stdout",
          "text": [
            "Europe floor? 0\n",
            "US floor: 1\n"
          ]
        }
      ]
    },
    {
      "cell_type": "code",
      "source": [
        "# Turn off tabs! 4 spaces!"
      ],
      "metadata": {
        "id": "rHgDSgSru4ZL"
      },
      "execution_count": null,
      "outputs": []
    },
    {
      "cell_type": "code",
      "source": [
        "x = 5\n",
        "\n",
        "if x > 2 : \n",
        "  print(\"More than 2\") # True; This is true\n",
        "else :\n",
        "  print(\"Less than 2\") # False; This is skipped\n",
        "print(\"Done!\")\n",
        "\n",
        "if x > 2 : \n",
        "  print(\"More than 2\") # True. This is true\n",
        "elif x > 4:\n",
        "  print(\"More than 4\") # True; This is skipped\n",
        "else :\n",
        "  print(\"Less than 2\") # False; This is skipped\n",
        "print(\"Done!\")"
      ],
      "metadata": {
        "colab": {
          "base_uri": "https://localhost:8080/"
        },
        "id": "l_4agxjjynWL",
        "outputId": "f95a11bb-c7f0-44e3-b6bd-46c8f3aae8d6"
      },
      "execution_count": 7,
      "outputs": [
        {
          "output_type": "stream",
          "name": "stdout",
          "text": [
            "More than 2\n",
            "Done!\n",
            "More than 2\n",
            "Done!\n"
          ]
        }
      ]
    },
    {
      "cell_type": "code",
      "source": [
        "my_input = \"Hello\"\n",
        "try:\n",
        "  my_output = int(my_input)\n",
        "except:\n",
        "  my_output = 1\n",
        "print(\"My value:\", my_output)"
      ],
      "metadata": {
        "colab": {
          "base_uri": "https://localhost:8080/"
        },
        "id": "CW0v99Nz0-20",
        "outputId": "b224c617-1327-4d4c-a1e3-2693bbf5b1fd"
      },
      "execution_count": 9,
      "outputs": [
        {
          "output_type": "stream",
          "name": "stdout",
          "text": [
            "My value: 1\n"
          ]
        }
      ]
    },
    {
      "cell_type": "code",
      "source": [
        "def greet (language) : # Function: greet; Parameter: language\n",
        "  if language == \"en\" : \n",
        "    print(\"Hello\")\n",
        "  elif language == \"es\" : \n",
        "    print(\"Hola\")\n",
        "\n",
        "greet(\"en\")\n",
        "\n",
        "greet(\"es\")"
      ],
      "metadata": {
        "colab": {
          "base_uri": "https://localhost:8080/"
        },
        "id": "8L6Ouhje2k-i",
        "outputId": "3b4cc39e-7e0f-4a5e-a30c-aeb10178c9fc"
      },
      "execution_count": 15,
      "outputs": [
        {
          "output_type": "stream",
          "name": "stdout",
          "text": [
            "Hello\n",
            "Hola\n"
          ]
        }
      ]
    },
    {
      "cell_type": "code",
      "source": [
        "def add_two_values (a, b) : \n",
        "  added = a + b\n",
        "  return added\n",
        "\n",
        "x = add_two_values(1, 2)\n",
        "print(x)"
      ],
      "metadata": {
        "colab": {
          "base_uri": "https://localhost:8080/"
        },
        "id": "pwExmEwL955o",
        "outputId": "617e5f1c-cc0d-4c36-f757-5e18d2167409"
      },
      "execution_count": 16,
      "outputs": [
        {
          "output_type": "stream",
          "name": "stdout",
          "text": [
            "3\n"
          ]
        }
      ]
    }
  ]
}