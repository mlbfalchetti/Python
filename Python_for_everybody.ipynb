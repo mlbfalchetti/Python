{
  "nbformat": 4,
  "nbformat_minor": 0,
  "metadata": {
    "colab": {
      "provenance": [],
      "authorship_tag": "ABX9TyNZS4y+HTp4T533WTlNuUgn",
      "include_colab_link": true
    },
    "kernelspec": {
      "name": "python3",
      "display_name": "Python 3"
    },
    "language_info": {
      "name": "python"
    }
  },
  "cells": [
    {
      "cell_type": "markdown",
      "metadata": {
        "id": "view-in-github",
        "colab_type": "text"
      },
      "source": [
        "<a href=\"https://colab.research.google.com/github/mlbfalchetti/Python/blob/main/Python_for_everybody.ipynb\" target=\"_parent\"><img src=\"https://colab.research.google.com/assets/colab-badge.svg\" alt=\"Open In Colab\"/></a>"
      ]
    },
    {
      "cell_type": "code",
      "execution_count": null,
      "metadata": {
        "colab": {
          "base_uri": "https://localhost:8080/"
        },
        "id": "ANGhkExnv_TY",
        "outputId": "2ce92d09-f01e-4e5a-8fb8-05787377e204"
      },
      "outputs": [
        {
          "output_type": "stream",
          "name": "stdout",
          "text": [
            "hello world\n"
          ]
        }
      ],
      "source": [
        "print(\"hello world\")"
      ]
    },
    {
      "cell_type": "code",
      "source": [
        "x = 2\n",
        "print(x)\n",
        "x = x + 2\n",
        "print(x)"
      ],
      "metadata": {
        "colab": {
          "base_uri": "https://localhost:8080/"
        },
        "id": "zUgpLFbcziYD",
        "outputId": "febaaedc-c3e3-4665-99a3-e1fc2fd7f1f9"
      },
      "execution_count": null,
      "outputs": [
        {
          "output_type": "stream",
          "name": "stdout",
          "text": [
            "2\n",
            "4\n"
          ]
        }
      ]
    },
    {
      "cell_type": "code",
      "source": [
        "x = 2\n",
        "if x < 10 :\n",
        "  print(\"< than 10\")\n",
        "if x > 10 :\n",
        "  print(\"> than 10\")\n",
        "print(\"The end\")"
      ],
      "metadata": {
        "colab": {
          "base_uri": "https://localhost:8080/"
        },
        "id": "Ge0Q6iCJ1gvL",
        "outputId": "7f39b16c-8db9-4c43-bf95-5f6ac65389db"
      },
      "execution_count": null,
      "outputs": [
        {
          "output_type": "stream",
          "name": "stdout",
          "text": [
            "< than 10\n",
            "The end\n"
          ]
        }
      ]
    },
    {
      "cell_type": "code",
      "source": [
        "x = 5\n",
        "while x > 0 :\n",
        "  print(x)\n",
        "  x = x - 1\n",
        "print(\"The end\")"
      ],
      "metadata": {
        "colab": {
          "base_uri": "https://localhost:8080/"
        },
        "id": "xW1MEsAB2CH5",
        "outputId": "cc4e81d7-1daf-4479-f692-d3d7fe064695"
      },
      "execution_count": null,
      "outputs": [
        {
          "output_type": "stream",
          "name": "stdout",
          "text": [
            "5\n",
            "4\n",
            "3\n",
            "2\n",
            "1\n",
            "The end\n"
          ]
        }
      ]
    },
    {
      "cell_type": "code",
      "source": [
        "x = 2\n",
        "\n",
        "y = x + 2\n",
        "print(y)\n",
        "\n",
        "y = x * x\n",
        "print(y)\n",
        "\n",
        "y = x / x\n",
        "print(y)\n",
        "\n",
        "y = x % x\n",
        "print(y)\n",
        "\n",
        "y = x ** x\n",
        "print(y)"
      ],
      "metadata": {
        "colab": {
          "base_uri": "https://localhost:8080/"
        },
        "id": "34zBPg-L2aCO",
        "outputId": "6eded414-441d-4839-a30d-077b4d6178bb"
      },
      "execution_count": null,
      "outputs": [
        {
          "output_type": "stream",
          "name": "stdout",
          "text": [
            "4\n",
            "4\n",
            "1.0\n",
            "0\n",
            "4\n"
          ]
        }
      ]
    },
    {
      "cell_type": "code",
      "source": [
        "# Operator precedence rules\n",
        "\n",
        "# Parenthesis\n",
        "# **\n",
        "# *; / \n",
        "# +; -\n",
        "# Left to right"
      ],
      "metadata": {
        "id": "HMQes0uu6N49"
      },
      "execution_count": null,
      "outputs": []
    },
    {
      "cell_type": "code",
      "source": [
        "x = 1 + 2 # Sum\n",
        "print(x)\n",
        "\n",
        "x = \"Hello, \" + \"world\" # Concatenate\n",
        "print(x)\n",
        "\n",
        "# x = \"Hello, \" + 1 # Error\n",
        "\n",
        "type(\"Hello, \")\n",
        "\n",
        "type(1)"
      ],
      "metadata": {
        "colab": {
          "base_uri": "https://localhost:8080/"
        },
        "id": "eSMfzXAr7FSf",
        "outputId": "e8aca1ba-74f6-4a3b-d91b-22d6f306d3c3"
      },
      "execution_count": null,
      "outputs": [
        {
          "output_type": "stream",
          "name": "stdout",
          "text": [
            "3\n",
            "Hello, world\n"
          ]
        },
        {
          "output_type": "execute_result",
          "data": {
            "text/plain": [
              "int"
            ]
          },
          "metadata": {},
          "execution_count": 16
        }
      ]
    },
    {
      "cell_type": "code",
      "source": [
        "print(float(1) + 2) # To float"
      ],
      "metadata": {
        "colab": {
          "base_uri": "https://localhost:8080/"
        },
        "id": "AssR4Z7P8L0t",
        "outputId": "1cdfadec-9aa1-4137-fae2-01816d0d41b2"
      },
      "execution_count": null,
      "outputs": [
        {
          "output_type": "stream",
          "name": "stdout",
          "text": [
            "3.0\n"
          ]
        }
      ]
    },
    {
      "cell_type": "code",
      "source": [
        "print(10 / 2) # Integer division produces a floating point in Python 3.x"
      ],
      "metadata": {
        "colab": {
          "base_uri": "https://localhost:8080/"
        },
        "id": "rtSnvIiN8_az",
        "outputId": "13a34da0-27c3-481f-cc9f-84e266cf6f0b"
      },
      "execution_count": null,
      "outputs": [
        {
          "output_type": "stream",
          "name": "stdout",
          "text": [
            "5.0\n"
          ]
        }
      ]
    },
    {
      "cell_type": "code",
      "source": [
        "my_input = input(\"Europe floor? \")\n",
        "\n",
        "my_output = int(my_input) + 1\n",
        "\n",
        "print(\"US floor:\", my_output)"
      ],
      "metadata": {
        "colab": {
          "base_uri": "https://localhost:8080/"
        },
        "id": "5XLUZEumupx4",
        "outputId": "2b657b62-f538-4343-9120-01060f4c23fd"
      },
      "execution_count": null,
      "outputs": [
        {
          "output_type": "stream",
          "name": "stdout",
          "text": [
            "Europe floor? 0\n",
            "US floor: 1\n"
          ]
        }
      ]
    },
    {
      "cell_type": "code",
      "source": [
        "# Turn off tabs! 4 spaces!"
      ],
      "metadata": {
        "id": "rHgDSgSru4ZL"
      },
      "execution_count": null,
      "outputs": []
    },
    {
      "cell_type": "code",
      "source": [
        "x = 5\n",
        "\n",
        "if x > 2 : \n",
        "  print(\"More than 2\") # True; This is true\n",
        "else :\n",
        "  print(\"Less than 2\") # False; This is skipped\n",
        "print(\"Done!\")\n",
        "\n",
        "if x > 2 : \n",
        "  print(\"More than 2\") # True. This is true\n",
        "elif x > 4:\n",
        "  print(\"More than 4\") # True; This is skipped\n",
        "else :\n",
        "  print(\"Less than 2\") # False; This is skipped\n",
        "print(\"Done!\")"
      ],
      "metadata": {
        "colab": {
          "base_uri": "https://localhost:8080/"
        },
        "id": "l_4agxjjynWL",
        "outputId": "f95a11bb-c7f0-44e3-b6bd-46c8f3aae8d6"
      },
      "execution_count": null,
      "outputs": [
        {
          "output_type": "stream",
          "name": "stdout",
          "text": [
            "More than 2\n",
            "Done!\n",
            "More than 2\n",
            "Done!\n"
          ]
        }
      ]
    },
    {
      "cell_type": "code",
      "source": [
        "my_input = \"Hello\"\n",
        "try:\n",
        "  my_output = int(my_input)\n",
        "except:\n",
        "  my_output = 1\n",
        "print(\"My value:\", my_output)"
      ],
      "metadata": {
        "colab": {
          "base_uri": "https://localhost:8080/"
        },
        "id": "CW0v99Nz0-20",
        "outputId": "b224c617-1327-4d4c-a1e3-2693bbf5b1fd"
      },
      "execution_count": null,
      "outputs": [
        {
          "output_type": "stream",
          "name": "stdout",
          "text": [
            "My value: 1\n"
          ]
        }
      ]
    },
    {
      "cell_type": "code",
      "source": [
        "def greet (language) : # Function: greet; Parameter: language\n",
        "  if language == \"en\" : \n",
        "    print(\"Hello\")\n",
        "  elif language == \"es\" : \n",
        "    print(\"Hola\")\n",
        "\n",
        "greet(\"en\")\n",
        "\n",
        "greet(\"es\")"
      ],
      "metadata": {
        "colab": {
          "base_uri": "https://localhost:8080/"
        },
        "id": "8L6Ouhje2k-i",
        "outputId": "3b4cc39e-7e0f-4a5e-a30c-aeb10178c9fc"
      },
      "execution_count": null,
      "outputs": [
        {
          "output_type": "stream",
          "name": "stdout",
          "text": [
            "Hello\n",
            "Hola\n"
          ]
        }
      ]
    },
    {
      "cell_type": "code",
      "source": [
        "def add_two_values (a, b) : \n",
        "  added = a + b\n",
        "  return added\n",
        "\n",
        "x = add_two_values(1, 2)\n",
        "print(x)"
      ],
      "metadata": {
        "colab": {
          "base_uri": "https://localhost:8080/"
        },
        "id": "pwExmEwL955o",
        "outputId": "617e5f1c-cc0d-4c36-f757-5e18d2167409"
      },
      "execution_count": null,
      "outputs": [
        {
          "output_type": "stream",
          "name": "stdout",
          "text": [
            "3\n"
          ]
        }
      ]
    },
    {
      "cell_type": "code",
      "source": [
        "n = 3\n",
        "while n > 0 :\n",
        "  print(n)\n",
        "  n = n - 1\n",
        "print(\"The end\")\n",
        "print(n)"
      ],
      "metadata": {
        "id": "pfT2GhXXVYUY",
        "outputId": "1963104e-0b5a-4351-8fec-619bf28b36a3",
        "colab": {
          "base_uri": "https://localhost:8080/"
        }
      },
      "execution_count": 2,
      "outputs": [
        {
          "output_type": "stream",
          "name": "stdout",
          "text": [
            "3\n",
            "2\n",
            "1\n",
            "The end\n",
            "0\n"
          ]
        }
      ]
    },
    {
      "cell_type": "code",
      "source": [
        "while True :\n",
        "  line = input(\"> \")\n",
        "  if line == \"Done\" : \n",
        "    break\n",
        "  print(line)\n",
        "print(\"The end\")"
      ],
      "metadata": {
        "id": "x7jBVG7nV-A3",
        "outputId": "9c15c691-2b1a-428e-f733-1d84650f3e0e",
        "colab": {
          "base_uri": "https://localhost:8080/"
        }
      },
      "execution_count": 4,
      "outputs": [
        {
          "output_type": "stream",
          "name": "stdout",
          "text": [
            "> Hello there\n",
            "Hello there\n",
            "> Done\n",
            "The end\n"
          ]
        }
      ]
    },
    {
      "cell_type": "code",
      "source": [
        "# Definite loops\n",
        "for i in [3, 2, 1] :\n",
        "  print(i)\n",
        "print(\"The end\")"
      ],
      "metadata": {
        "id": "0sDdLfbQXk5f",
        "outputId": "a5030f60-4ca3-4773-91e0-4c8fd6fb5f87",
        "colab": {
          "base_uri": "https://localhost:8080/"
        }
      },
      "execution_count": 5,
      "outputs": [
        {
          "output_type": "stream",
          "name": "stdout",
          "text": [
            "3\n",
            "2\n",
            "1\n",
            "The end\n"
          ]
        }
      ]
    },
    {
      "cell_type": "code",
      "source": [
        "friends = [\"A\", \"B\", \"C\"]\n",
        "for friend in friends : \n",
        "  print(\"Happy new year:\", friend)\n",
        "print(\"The end\")"
      ],
      "metadata": {
        "id": "OG1d8SNpXzDj",
        "outputId": "808c3066-1318-495c-c054-51bd00414bff",
        "colab": {
          "base_uri": "https://localhost:8080/"
        }
      },
      "execution_count": 6,
      "outputs": [
        {
          "output_type": "stream",
          "name": "stdout",
          "text": [
            "Happy new year: A\n",
            "Happy new year: B\n",
            "Happy new year: C\n",
            "The end\n"
          ]
        }
      ]
    },
    {
      "cell_type": "code",
      "source": [
        "count = 0\n",
        "sum = 0\n",
        "print(\"Before\", count, sum)\n",
        "for value in [1, 2, 3] : \n",
        "  count = count + 1\n",
        "  sum = sum + value\n",
        "print(\"After\", count, sum, sum / count)"
      ],
      "metadata": {
        "id": "iAzWkyj-Ycxr",
        "outputId": "734f2ddf-c220-4dbc-ed37-06e8dde22a57",
        "colab": {
          "base_uri": "https://localhost:8080/"
        }
      },
      "execution_count": 8,
      "outputs": [
        {
          "output_type": "stream",
          "name": "stdout",
          "text": [
            "Before 0 0\n",
            "After 3 6 2.0\n"
          ]
        }
      ]
    },
    {
      "cell_type": "code",
      "source": [
        "for value in [1, 2, 3] : \n",
        "  if value > 2:\n",
        "    print(\"More than 2:\", value)"
      ],
      "metadata": {
        "id": "Hi-P5-8Re3-W",
        "outputId": "1c37c0e7-6de6-4c43-838b-bbc7f4bf4b7e",
        "colab": {
          "base_uri": "https://localhost:8080/"
        }
      },
      "execution_count": 11,
      "outputs": [
        {
          "output_type": "stream",
          "name": "stdout",
          "text": [
            "More than 2: 3\n"
          ]
        }
      ]
    },
    {
      "cell_type": "code",
      "source": [
        "smallest = None\n",
        "for value in [1, 2, 3, 4 , 5] : \n",
        "  if smallest is None : \n",
        "    smallest = value\n",
        "  elif value < smallest : \n",
        "    smallest = value\n",
        "  print(smallest, value)\n",
        "print(smallest)"
      ],
      "metadata": {
        "id": "oCbTVaMehJzL",
        "outputId": "304873ab-85d5-469c-c018-b6fdb8dc4777",
        "colab": {
          "base_uri": "https://localhost:8080/"
        }
      },
      "execution_count": 14,
      "outputs": [
        {
          "output_type": "stream",
          "name": "stdout",
          "text": [
            "1 1\n",
            "1 2\n",
            "1 3\n",
            "1 4\n",
            "1 5\n",
            "1\n"
          ]
        }
      ]
    },
    {
      "cell_type": "code",
      "source": [
        "0 == 0.0"
      ],
      "metadata": {
        "id": "E_nUUnTai0zE",
        "outputId": "3ecf15de-2c6c-4d6a-88e3-a70c45c0da03",
        "colab": {
          "base_uri": "https://localhost:8080/"
        }
      },
      "execution_count": 19,
      "outputs": [
        {
          "output_type": "execute_result",
          "data": {
            "text/plain": [
              "True"
            ]
          },
          "metadata": {},
          "execution_count": 19
        }
      ]
    },
    {
      "cell_type": "code",
      "source": [
        "0 is 0.0"
      ],
      "metadata": {
        "id": "BxTL3IA4ign2",
        "outputId": "724c93ee-cdbf-4101-8e92-85a5668767b2",
        "colab": {
          "base_uri": "https://localhost:8080/"
        }
      },
      "execution_count": 18,
      "outputs": [
        {
          "output_type": "stream",
          "name": "stderr",
          "text": [
            "<>:1: SyntaxWarning: \"is\" with a literal. Did you mean \"==\"?\n",
            "<>:1: SyntaxWarning: \"is\" with a literal. Did you mean \"==\"?\n",
            "<ipython-input-18-6aaf729ba8f4>:1: SyntaxWarning: \"is\" with a literal. Did you mean \"==\"?\n",
            "  0 is 0.0\n"
          ]
        },
        {
          "output_type": "execute_result",
          "data": {
            "text/plain": [
              "False"
            ]
          },
          "metadata": {},
          "execution_count": 18
        }
      ]
    },
    {
      "cell_type": "code",
      "source": [
        "fruit = \"banana\"\n",
        "letter = fruit[0]\n",
        "print(letter)"
      ],
      "metadata": {
        "id": "Lwc9nirxpW87",
        "outputId": "b88d5c66-f4ea-49e6-c414-a46ef5d510f6",
        "colab": {
          "base_uri": "https://localhost:8080/"
        }
      },
      "execution_count": 21,
      "outputs": [
        {
          "output_type": "stream",
          "name": "stdout",
          "text": [
            "b\n"
          ]
        }
      ]
    },
    {
      "cell_type": "code",
      "source": [
        "print(len(fruit))"
      ],
      "metadata": {
        "id": "FMVDzQx6qID0",
        "outputId": "d182c590-1abf-4f5e-af59-a49ebcb16037",
        "colab": {
          "base_uri": "https://localhost:8080/"
        }
      },
      "execution_count": 22,
      "outputs": [
        {
          "output_type": "stream",
          "name": "stdout",
          "text": [
            "6\n"
          ]
        }
      ]
    },
    {
      "cell_type": "code",
      "source": [
        "fruit = \"banana\"\n",
        "for letter in fruit : \n",
        "  print(letter)"
      ],
      "metadata": {
        "id": "hCJ_6_j-qM1H",
        "outputId": "854b40a8-7728-4957-9943-ffb0a8b6dfa7",
        "colab": {
          "base_uri": "https://localhost:8080/"
        }
      },
      "execution_count": 23,
      "outputs": [
        {
          "output_type": "stream",
          "name": "stdout",
          "text": [
            "b\n",
            "a\n",
            "n\n",
            "a\n",
            "n\n",
            "a\n"
          ]
        }
      ]
    },
    {
      "cell_type": "code",
      "source": [
        "word = \"banana\"\n",
        "count = 0\n",
        "for letter in word : \n",
        "  if letter == \"a\" : \n",
        "    count = count + 1\n",
        "print(count)"
      ],
      "metadata": {
        "id": "Oo9Ras3Yq2WO",
        "outputId": "b0465732-b729-457f-e7c4-124f48190b09",
        "colab": {
          "base_uri": "https://localhost:8080/"
        }
      },
      "execution_count": 24,
      "outputs": [
        {
          "output_type": "stream",
          "name": "stdout",
          "text": [
            "3\n"
          ]
        }
      ]
    },
    {
      "cell_type": "code",
      "source": [
        "my_string = \"Monty Python\"\n",
        "print(my_string[0:3]) # Up to but not including..."
      ],
      "metadata": {
        "id": "FTdLMI2asHjo",
        "outputId": "648a9df8-dd85-40bd-b53f-532dfcfc2584",
        "colab": {
          "base_uri": "https://localhost:8080/"
        }
      },
      "execution_count": 27,
      "outputs": [
        {
          "output_type": "stream",
          "name": "stdout",
          "text": [
            "Mon\n"
          ]
        }
      ]
    },
    {
      "cell_type": "code",
      "source": [
        "A = \"Hello\"\n",
        "B = \"there\"\n",
        "A + \" \" + B"
      ],
      "metadata": {
        "id": "iy6AhfTzs9Ax",
        "outputId": "1f81b560-7c99-440e-cdca-13cc616ce889",
        "colab": {
          "base_uri": "https://localhost:8080/",
          "height": 35
        }
      },
      "execution_count": 29,
      "outputs": [
        {
          "output_type": "execute_result",
          "data": {
            "text/plain": [
              "'Hello there'"
            ],
            "application/vnd.google.colaboratory.intrinsic+json": {
              "type": "string"
            }
          },
          "metadata": {},
          "execution_count": 29
        }
      ]
    },
    {
      "cell_type": "code",
      "source": [
        "fruit = \"banana\"\n",
        "\"b\" in fruit"
      ],
      "metadata": {
        "id": "wCTN9FoptI0l",
        "outputId": "8235bf77-55c1-4c3a-d6e1-eedac57fcca0",
        "colab": {
          "base_uri": "https://localhost:8080/"
        }
      },
      "execution_count": 30,
      "outputs": [
        {
          "output_type": "execute_result",
          "data": {
            "text/plain": [
              "True"
            ]
          },
          "metadata": {},
          "execution_count": 30
        }
      ]
    },
    {
      "cell_type": "code",
      "source": [
        "greet = \"Hello Bob\"\n",
        "greet.lower()"
      ],
      "metadata": {
        "id": "qPeyokYStQS0",
        "outputId": "d7b5eed9-e26a-46d2-b8ca-77fadadf1140",
        "colab": {
          "base_uri": "https://localhost:8080/",
          "height": 35
        }
      },
      "execution_count": 31,
      "outputs": [
        {
          "output_type": "execute_result",
          "data": {
            "text/plain": [
              "'hello bob'"
            ],
            "application/vnd.google.colaboratory.intrinsic+json": {
              "type": "string"
            }
          },
          "metadata": {},
          "execution_count": 31
        }
      ]
    },
    {
      "cell_type": "code",
      "source": [
        "greet = \"Hello Bob\"\n",
        "\n",
        "type(greet)\n",
        "\n",
        "# dir(greet) # Methods of str"
      ],
      "metadata": {
        "id": "EhG20v8kueWQ",
        "outputId": "432a70c0-be9a-4398-88aa-2006d3321721",
        "colab": {
          "base_uri": "https://localhost:8080/"
        }
      },
      "execution_count": 34,
      "outputs": [
        {
          "output_type": "execute_result",
          "data": {
            "text/plain": [
              "str"
            ]
          },
          "metadata": {},
          "execution_count": 34
        }
      ]
    }
  ]
}