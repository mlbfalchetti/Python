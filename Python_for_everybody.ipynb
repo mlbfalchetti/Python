{
  "nbformat": 4,
  "nbformat_minor": 0,
  "metadata": {
    "colab": {
      "provenance": [],
      "authorship_tag": "ABX9TyPQ7+vPP8F1s3C//ofCSZ/u",
      "include_colab_link": true
    },
    "kernelspec": {
      "name": "python3",
      "display_name": "Python 3"
    },
    "language_info": {
      "name": "python"
    }
  },
  "cells": [
    {
      "cell_type": "markdown",
      "metadata": {
        "id": "view-in-github",
        "colab_type": "text"
      },
      "source": [
        "<a href=\"https://colab.research.google.com/github/mlbfalchetti/Python/blob/main/Python_for_everybody.ipynb\" target=\"_parent\"><img src=\"https://colab.research.google.com/assets/colab-badge.svg\" alt=\"Open In Colab\"/></a>"
      ]
    },
    {
      "cell_type": "code",
      "execution_count": null,
      "metadata": {
        "colab": {
          "base_uri": "https://localhost:8080/"
        },
        "id": "ANGhkExnv_TY",
        "outputId": "2ce92d09-f01e-4e5a-8fb8-05787377e204"
      },
      "outputs": [
        {
          "output_type": "stream",
          "name": "stdout",
          "text": [
            "hello world\n"
          ]
        }
      ],
      "source": [
        "print(\"hello world\")"
      ]
    },
    {
      "cell_type": "code",
      "source": [
        "x = 2\n",
        "print(x)\n",
        "x = x + 2\n",
        "print(x)"
      ],
      "metadata": {
        "colab": {
          "base_uri": "https://localhost:8080/"
        },
        "id": "zUgpLFbcziYD",
        "outputId": "febaaedc-c3e3-4665-99a3-e1fc2fd7f1f9"
      },
      "execution_count": null,
      "outputs": [
        {
          "output_type": "stream",
          "name": "stdout",
          "text": [
            "2\n",
            "4\n"
          ]
        }
      ]
    },
    {
      "cell_type": "code",
      "source": [
        "x = 2\n",
        "if x < 10 :\n",
        "  print(\"< than 10\")\n",
        "if x > 10 :\n",
        "  print(\"> than 10\")\n",
        "print(\"The end\")"
      ],
      "metadata": {
        "colab": {
          "base_uri": "https://localhost:8080/"
        },
        "id": "Ge0Q6iCJ1gvL",
        "outputId": "7f39b16c-8db9-4c43-bf95-5f6ac65389db"
      },
      "execution_count": null,
      "outputs": [
        {
          "output_type": "stream",
          "name": "stdout",
          "text": [
            "< than 10\n",
            "The end\n"
          ]
        }
      ]
    },
    {
      "cell_type": "code",
      "source": [
        "x = 5\n",
        "while x > 0 :\n",
        "  print(x)\n",
        "  x = x - 1\n",
        "print(\"The end\")"
      ],
      "metadata": {
        "colab": {
          "base_uri": "https://localhost:8080/"
        },
        "id": "xW1MEsAB2CH5",
        "outputId": "cc4e81d7-1daf-4479-f692-d3d7fe064695"
      },
      "execution_count": null,
      "outputs": [
        {
          "output_type": "stream",
          "name": "stdout",
          "text": [
            "5\n",
            "4\n",
            "3\n",
            "2\n",
            "1\n",
            "The end\n"
          ]
        }
      ]
    },
    {
      "cell_type": "code",
      "source": [
        "x = 2\n",
        "\n",
        "y = x + 2\n",
        "print(y)\n",
        "\n",
        "y = x * x\n",
        "print(y)\n",
        "\n",
        "y = x / x\n",
        "print(y)\n",
        "\n",
        "y = x % x\n",
        "print(y)\n",
        "\n",
        "y = x ** x\n",
        "print(y)"
      ],
      "metadata": {
        "colab": {
          "base_uri": "https://localhost:8080/"
        },
        "id": "34zBPg-L2aCO",
        "outputId": "6eded414-441d-4839-a30d-077b4d6178bb"
      },
      "execution_count": null,
      "outputs": [
        {
          "output_type": "stream",
          "name": "stdout",
          "text": [
            "4\n",
            "4\n",
            "1.0\n",
            "0\n",
            "4\n"
          ]
        }
      ]
    },
    {
      "cell_type": "code",
      "source": [
        "# Operator precedence rules\n",
        "\n",
        "# Parenthesis\n",
        "# **\n",
        "# *; / \n",
        "# +; -\n",
        "# Left to right"
      ],
      "metadata": {
        "id": "HMQes0uu6N49"
      },
      "execution_count": null,
      "outputs": []
    },
    {
      "cell_type": "code",
      "source": [
        "x = 1 + 2 # Sum\n",
        "print(x)\n",
        "\n",
        "x = \"Hello, \" + \"world\" # Concatenate\n",
        "print(x)\n",
        "\n",
        "# x = \"Hello, \" + 1 # Error\n",
        "\n",
        "type(\"Hello, \")\n",
        "\n",
        "type(1)"
      ],
      "metadata": {
        "colab": {
          "base_uri": "https://localhost:8080/"
        },
        "id": "eSMfzXAr7FSf",
        "outputId": "e8aca1ba-74f6-4a3b-d91b-22d6f306d3c3"
      },
      "execution_count": null,
      "outputs": [
        {
          "output_type": "stream",
          "name": "stdout",
          "text": [
            "3\n",
            "Hello, world\n"
          ]
        },
        {
          "output_type": "execute_result",
          "data": {
            "text/plain": [
              "int"
            ]
          },
          "metadata": {},
          "execution_count": 16
        }
      ]
    },
    {
      "cell_type": "code",
      "source": [
        "print(float(1) + 2) # To float"
      ],
      "metadata": {
        "colab": {
          "base_uri": "https://localhost:8080/"
        },
        "id": "AssR4Z7P8L0t",
        "outputId": "1cdfadec-9aa1-4137-fae2-01816d0d41b2"
      },
      "execution_count": null,
      "outputs": [
        {
          "output_type": "stream",
          "name": "stdout",
          "text": [
            "3.0\n"
          ]
        }
      ]
    },
    {
      "cell_type": "code",
      "source": [
        "print(10 / 2) # Integer division produces a floating point in Python 3.x"
      ],
      "metadata": {
        "colab": {
          "base_uri": "https://localhost:8080/"
        },
        "id": "rtSnvIiN8_az",
        "outputId": "13a34da0-27c3-481f-cc9f-84e266cf6f0b"
      },
      "execution_count": null,
      "outputs": [
        {
          "output_type": "stream",
          "name": "stdout",
          "text": [
            "5.0\n"
          ]
        }
      ]
    },
    {
      "cell_type": "code",
      "source": [
        "my_input = input(\"Europe floor? \")\n",
        "\n",
        "my_output = int(my_input) + 1\n",
        "\n",
        "print(\"US floor:\", my_output)"
      ],
      "metadata": {
        "colab": {
          "base_uri": "https://localhost:8080/"
        },
        "id": "5XLUZEumupx4",
        "outputId": "2b657b62-f538-4343-9120-01060f4c23fd"
      },
      "execution_count": null,
      "outputs": [
        {
          "output_type": "stream",
          "name": "stdout",
          "text": [
            "Europe floor? 0\n",
            "US floor: 1\n"
          ]
        }
      ]
    },
    {
      "cell_type": "code",
      "source": [
        "# Turn off tabs! 4 spaces!"
      ],
      "metadata": {
        "id": "rHgDSgSru4ZL"
      },
      "execution_count": null,
      "outputs": []
    },
    {
      "cell_type": "code",
      "source": [
        "x = 5\n",
        "\n",
        "if x > 2 : \n",
        "  print(\"More than 2\") # True; This is true\n",
        "else :\n",
        "  print(\"Less than 2\") # False; This is skipped\n",
        "print(\"Done!\")\n",
        "\n",
        "if x > 2 : \n",
        "  print(\"More than 2\") # True. This is true\n",
        "elif x > 4:\n",
        "  print(\"More than 4\") # True; This is skipped\n",
        "else :\n",
        "  print(\"Less than 2\") # False; This is skipped\n",
        "print(\"Done!\")"
      ],
      "metadata": {
        "colab": {
          "base_uri": "https://localhost:8080/"
        },
        "id": "l_4agxjjynWL",
        "outputId": "f95a11bb-c7f0-44e3-b6bd-46c8f3aae8d6"
      },
      "execution_count": null,
      "outputs": [
        {
          "output_type": "stream",
          "name": "stdout",
          "text": [
            "More than 2\n",
            "Done!\n",
            "More than 2\n",
            "Done!\n"
          ]
        }
      ]
    },
    {
      "cell_type": "code",
      "source": [
        "my_input = \"Hello\"\n",
        "try:\n",
        "  my_output = int(my_input)\n",
        "except:\n",
        "  my_output = 1\n",
        "print(\"My value:\", my_output)"
      ],
      "metadata": {
        "colab": {
          "base_uri": "https://localhost:8080/"
        },
        "id": "CW0v99Nz0-20",
        "outputId": "b224c617-1327-4d4c-a1e3-2693bbf5b1fd"
      },
      "execution_count": null,
      "outputs": [
        {
          "output_type": "stream",
          "name": "stdout",
          "text": [
            "My value: 1\n"
          ]
        }
      ]
    },
    {
      "cell_type": "code",
      "source": [
        "def greet (language) : # Function: greet; Parameter: language\n",
        "  if language == \"en\" : \n",
        "    print(\"Hello\")\n",
        "  elif language == \"es\" : \n",
        "    print(\"Hola\")\n",
        "\n",
        "greet(\"en\")\n",
        "\n",
        "greet(\"es\")"
      ],
      "metadata": {
        "colab": {
          "base_uri": "https://localhost:8080/"
        },
        "id": "8L6Ouhje2k-i",
        "outputId": "3b4cc39e-7e0f-4a5e-a30c-aeb10178c9fc"
      },
      "execution_count": null,
      "outputs": [
        {
          "output_type": "stream",
          "name": "stdout",
          "text": [
            "Hello\n",
            "Hola\n"
          ]
        }
      ]
    },
    {
      "cell_type": "code",
      "source": [
        "def add_two_values (a, b) : \n",
        "  added = a + b\n",
        "  return added\n",
        "\n",
        "x = add_two_values(1, 2)\n",
        "print(x)"
      ],
      "metadata": {
        "colab": {
          "base_uri": "https://localhost:8080/"
        },
        "id": "pwExmEwL955o",
        "outputId": "617e5f1c-cc0d-4c36-f757-5e18d2167409"
      },
      "execution_count": null,
      "outputs": [
        {
          "output_type": "stream",
          "name": "stdout",
          "text": [
            "3\n"
          ]
        }
      ]
    },
    {
      "cell_type": "code",
      "source": [
        "x =  \"Hello\"\n",
        "x + \" \" +  \"there\""
      ],
      "metadata": {
        "colab": {
          "base_uri": "https://localhost:8080/",
          "height": 35
        },
        "id": "iIUJTdiE7xlb",
        "outputId": "00070f17-c47e-4ed1-8492-1d6996983de0"
      },
      "execution_count": 2,
      "outputs": [
        {
          "output_type": "execute_result",
          "data": {
            "text/plain": [
              "'Hello there'"
            ],
            "application/vnd.google.colaboratory.intrinsic+json": {
              "type": "string"
            }
          },
          "metadata": {},
          "execution_count": 2
        }
      ]
    },
    {
      "cell_type": "code",
      "source": [
        "x = \"banana\"\n",
        "\"n\" in x"
      ],
      "metadata": {
        "colab": {
          "base_uri": "https://localhost:8080/"
        },
        "id": "TzN9fIFd8yOW",
        "outputId": "a592f14c-1ebf-4468-becb-a5f28c45d422"
      },
      "execution_count": 3,
      "outputs": [
        {
          "output_type": "execute_result",
          "data": {
            "text/plain": [
              "True"
            ]
          },
          "metadata": {},
          "execution_count": 3
        }
      ]
    },
    {
      "cell_type": "code",
      "source": [
        "greet = \"Hello, Marcelo\"\n",
        "greet.lower()"
      ],
      "metadata": {
        "colab": {
          "base_uri": "https://localhost:8080/",
          "height": 35
        },
        "id": "NIP-OgOw83Bl",
        "outputId": "e9117dcb-f7cc-43ec-ce21-d8b661fac08d"
      },
      "execution_count": 5,
      "outputs": [
        {
          "output_type": "execute_result",
          "data": {
            "text/plain": [
              "'hello, marcelo'"
            ],
            "application/vnd.google.colaboratory.intrinsic+json": {
              "type": "string"
            }
          },
          "metadata": {},
          "execution_count": 5
        }
      ]
    },
    {
      "cell_type": "code",
      "source": [
        "\"Hello, Marcelo\".lower()"
      ],
      "metadata": {
        "colab": {
          "base_uri": "https://localhost:8080/",
          "height": 35
        },
        "id": "I5v2wWQu9owD",
        "outputId": "94f96434-c943-4f18-e99c-a1039c6cdd2d"
      },
      "execution_count": 6,
      "outputs": [
        {
          "output_type": "execute_result",
          "data": {
            "text/plain": [
              "'hello, marcelo'"
            ],
            "application/vnd.google.colaboratory.intrinsic+json": {
              "type": "string"
            }
          },
          "metadata": {},
          "execution_count": 6
        }
      ]
    },
    {
      "cell_type": "code",
      "source": [
        "type(greet)"
      ],
      "metadata": {
        "colab": {
          "base_uri": "https://localhost:8080/"
        },
        "id": "YK46LOTR9s4E",
        "outputId": "3d1036ca-c3d1-4189-8ced-7c94dce9569d"
      },
      "execution_count": 7,
      "outputs": [
        {
          "output_type": "execute_result",
          "data": {
            "text/plain": [
              "str"
            ]
          },
          "metadata": {},
          "execution_count": 7
        }
      ]
    },
    {
      "cell_type": "code",
      "source": [
        "dir(greet) # Methods"
      ],
      "metadata": {
        "colab": {
          "base_uri": "https://localhost:8080/"
        },
        "id": "IkzjMMC-9yXF",
        "outputId": "d42ebd19-f036-447d-da22-b677cadc9856"
      },
      "execution_count": 8,
      "outputs": [
        {
          "output_type": "execute_result",
          "data": {
            "text/plain": [
              "['__add__',\n",
              " '__class__',\n",
              " '__contains__',\n",
              " '__delattr__',\n",
              " '__dir__',\n",
              " '__doc__',\n",
              " '__eq__',\n",
              " '__format__',\n",
              " '__ge__',\n",
              " '__getattribute__',\n",
              " '__getitem__',\n",
              " '__getnewargs__',\n",
              " '__gt__',\n",
              " '__hash__',\n",
              " '__init__',\n",
              " '__init_subclass__',\n",
              " '__iter__',\n",
              " '__le__',\n",
              " '__len__',\n",
              " '__lt__',\n",
              " '__mod__',\n",
              " '__mul__',\n",
              " '__ne__',\n",
              " '__new__',\n",
              " '__reduce__',\n",
              " '__reduce_ex__',\n",
              " '__repr__',\n",
              " '__rmod__',\n",
              " '__rmul__',\n",
              " '__setattr__',\n",
              " '__sizeof__',\n",
              " '__str__',\n",
              " '__subclasshook__',\n",
              " 'capitalize',\n",
              " 'casefold',\n",
              " 'center',\n",
              " 'count',\n",
              " 'encode',\n",
              " 'endswith',\n",
              " 'expandtabs',\n",
              " 'find',\n",
              " 'format',\n",
              " 'format_map',\n",
              " 'index',\n",
              " 'isalnum',\n",
              " 'isalpha',\n",
              " 'isascii',\n",
              " 'isdecimal',\n",
              " 'isdigit',\n",
              " 'isidentifier',\n",
              " 'islower',\n",
              " 'isnumeric',\n",
              " 'isprintable',\n",
              " 'isspace',\n",
              " 'istitle',\n",
              " 'isupper',\n",
              " 'join',\n",
              " 'ljust',\n",
              " 'lower',\n",
              " 'lstrip',\n",
              " 'maketrans',\n",
              " 'partition',\n",
              " 'replace',\n",
              " 'rfind',\n",
              " 'rindex',\n",
              " 'rjust',\n",
              " 'rpartition',\n",
              " 'rsplit',\n",
              " 'rstrip',\n",
              " 'split',\n",
              " 'splitlines',\n",
              " 'startswith',\n",
              " 'strip',\n",
              " 'swapcase',\n",
              " 'title',\n",
              " 'translate',\n",
              " 'upper',\n",
              " 'zfill']"
            ]
          },
          "metadata": {},
          "execution_count": 8
        }
      ]
    },
    {
      "cell_type": "code",
      "source": [
        "greet.replace(\"Marcelo\", \"Val\")"
      ],
      "metadata": {
        "colab": {
          "base_uri": "https://localhost:8080/",
          "height": 35
        },
        "id": "g_6_21Vd97Qs",
        "outputId": "5f3929c9-5430-423f-fc9d-395e27920d10"
      },
      "execution_count": 9,
      "outputs": [
        {
          "output_type": "execute_result",
          "data": {
            "text/plain": [
              "'Hello, Val'"
            ],
            "application/vnd.google.colaboratory.intrinsic+json": {
              "type": "string"
            }
          },
          "metadata": {},
          "execution_count": 9
        }
      ]
    },
    {
      "cell_type": "code",
      "source": [
        "e_mail = \"mlbfalchetti@gmail.com\"\n",
        "\n",
        "at_position = e_mail.find(\"@\")\n",
        "\n",
        "print(e_mail[at_position + 1 : len(e_mail)])"
      ],
      "metadata": {
        "colab": {
          "base_uri": "https://localhost:8080/"
        },
        "id": "Bgg9h08l-Uj5",
        "outputId": "348b5514-a64e-4e12-e512-42ee7bfac3f3"
      },
      "execution_count": 12,
      "outputs": [
        {
          "output_type": "stream",
          "name": "stdout",
          "text": [
            "gmail.com\n"
          ]
        }
      ]
    },
    {
      "cell_type": "code",
      "source": [
        "file_handle = open(\"file.txt\")\n",
        "\n",
        "for line in file_handle : \n",
        "  print(line)\n",
        "\n",
        "count = 0\n",
        "for line in file_handle: \n",
        "  count = count + 1\n",
        "print(\"Line count:\", count)\n",
        "\n",
        "input = file_handle.read()\n",
        "print(len(input))\n",
        "\n",
        "for line in file_handle: \n",
        "  line = line.rstrip() # remove lines with \"\\n\"\n",
        "  if line.startswith(\"From:\") : \n",
        "    print(line)\n",
        "\n",
        "for line in file_handle: \n",
        "  line = line.rstrip() # remove lines with \"\\n\"\n",
        "  if not line.startswith(\"From:\") : \n",
        "    continue\n",
        "  print(line)"
      ],
      "metadata": {
        "id": "MhInumU1PJFz"
      },
      "execution_count": null,
      "outputs": []
    },
    {
      "cell_type": "code",
      "source": [
        "x = \"Hello, \\nMarcelo\" # \\n\n",
        "print(x)"
      ],
      "metadata": {
        "colab": {
          "base_uri": "https://localhost:8080/"
        },
        "id": "9MlBGVQPRBi7",
        "outputId": "a9892def-38ad-4764-88f9-0f1768c3ddb1"
      },
      "execution_count": 15,
      "outputs": [
        {
          "output_type": "stream",
          "name": "stdout",
          "text": [
            "Hello, \n",
            "Marcelo\n"
          ]
        }
      ]
    },
    {
      "cell_type": "code",
      "source": [
        "[\"red\", 1, 3.14] # list"
      ],
      "metadata": {
        "colab": {
          "base_uri": "https://localhost:8080/"
        },
        "id": "ZrODymvrVNT0",
        "outputId": "91ff024f-f6e6-4f3a-dd31-df59dfd203d0"
      },
      "execution_count": 16,
      "outputs": [
        {
          "output_type": "execute_result",
          "data": {
            "text/plain": [
              "['red', 1, 3.14]"
            ]
          },
          "metadata": {},
          "execution_count": 16
        }
      ]
    },
    {
      "cell_type": "code",
      "source": [
        "[[\"yellow\", \"orange\", \"red\"], 1, 3.14] # list"
      ],
      "metadata": {
        "colab": {
          "base_uri": "https://localhost:8080/"
        },
        "id": "pbFQMSoEWD09",
        "outputId": "cd2bab02-8ad9-4a63-a034-d89582be1448"
      },
      "execution_count": 17,
      "outputs": [
        {
          "output_type": "execute_result",
          "data": {
            "text/plain": [
              "[['yellow', 'orange', 'red'], 1, 3.14]"
            ]
          },
          "metadata": {},
          "execution_count": 17
        }
      ]
    },
    {
      "cell_type": "code",
      "source": [
        "my_list = [1, 1, 2, 3, 5]\n",
        "\n",
        "my_list[2] = 10 # lists are mutable\n",
        "\n",
        "my_list"
      ],
      "metadata": {
        "colab": {
          "base_uri": "https://localhost:8080/"
        },
        "id": "NNZjiEaQW4gH",
        "outputId": "1c4d2361-44f0-4a73-e52c-8c13aeb23a2d"
      },
      "execution_count": 18,
      "outputs": [
        {
          "output_type": "execute_result",
          "data": {
            "text/plain": [
              "[1, 1, 10, 3, 5]"
            ]
          },
          "metadata": {},
          "execution_count": 18
        }
      ]
    },
    {
      "cell_type": "code",
      "source": [
        "len(my_list)"
      ],
      "metadata": {
        "colab": {
          "base_uri": "https://localhost:8080/"
        },
        "id": "SlWflTlyXYhH",
        "outputId": "e8148158-075a-455a-fc30-1dccd5a7f3ba"
      },
      "execution_count": 19,
      "outputs": [
        {
          "output_type": "execute_result",
          "data": {
            "text/plain": [
              "5"
            ]
          },
          "metadata": {},
          "execution_count": 19
        }
      ]
    },
    {
      "cell_type": "code",
      "source": [
        "print(range(len(my_list)))"
      ],
      "metadata": {
        "colab": {
          "base_uri": "https://localhost:8080/"
        },
        "id": "vOvayfiKXa_H",
        "outputId": "c89885f4-e95d-4970-af39-b78e0f46348a"
      },
      "execution_count": 23,
      "outputs": [
        {
          "output_type": "stream",
          "name": "stdout",
          "text": [
            "range(0, 5)\n"
          ]
        }
      ]
    },
    {
      "cell_type": "code",
      "source": [
        "friends = [\"Marcelo\", \"Bruno\"]\n",
        "\n",
        "for friend in friends : \n",
        "  print(\"Good morning,:\", friend)\n",
        "\n",
        "for i in range(len(friends)) : \n",
        "  friend = friends[i]\n",
        "  print(\"Good morning,:\", friend)"
      ],
      "metadata": {
        "colab": {
          "base_uri": "https://localhost:8080/"
        },
        "id": "80JmCva2Xz4B",
        "outputId": "39d17bc8-0c41-4a05-c956-37ecf70fc3d6"
      },
      "execution_count": 24,
      "outputs": [
        {
          "output_type": "stream",
          "name": "stdout",
          "text": [
            "Good morning,: Marcelo\n",
            "Good morning,: Bruno\n",
            "Good morning,: Marcelo\n",
            "Good morning,: Bruno\n"
          ]
        }
      ]
    },
    {
      "cell_type": "code",
      "source": [
        "friends + friends"
      ],
      "metadata": {
        "colab": {
          "base_uri": "https://localhost:8080/"
        },
        "id": "1mRq3xIQYxNr",
        "outputId": "b30721a5-6d5f-4901-b138-fa737f787e4b"
      },
      "execution_count": 25,
      "outputs": [
        {
          "output_type": "execute_result",
          "data": {
            "text/plain": [
              "['Marcelo', 'Bruno', 'Marcelo', 'Bruno']"
            ]
          },
          "metadata": {},
          "execution_count": 25
        }
      ]
    },
    {
      "cell_type": "code",
      "source": [
        "my_list = list()\n",
        "\n",
        "my_list.append(\"Kindle\")\n",
        "\n",
        "my_list.append(\"Nintendo Switch\")\n",
        "\n",
        "my_list"
      ],
      "metadata": {
        "colab": {
          "base_uri": "https://localhost:8080/"
        },
        "id": "dN8EN0yOZeog",
        "outputId": "24dc36a4-24e6-418f-810a-22a5a8bb4197"
      },
      "execution_count": 31,
      "outputs": [
        {
          "output_type": "execute_result",
          "data": {
            "text/plain": [
              "['Kindle', 'Nintendo Switch']"
            ]
          },
          "metadata": {},
          "execution_count": 31
        }
      ]
    },
    {
      "cell_type": "code",
      "source": [
        "\"Kindle\" in my_list"
      ],
      "metadata": {
        "colab": {
          "base_uri": "https://localhost:8080/"
        },
        "id": "RdBXnCd7ZyiS",
        "outputId": "aec65426-8344-4094-a2d6-9872a4605daa"
      },
      "execution_count": 32,
      "outputs": [
        {
          "output_type": "execute_result",
          "data": {
            "text/plain": [
              "True"
            ]
          },
          "metadata": {},
          "execution_count": 32
        }
      ]
    },
    {
      "cell_type": "code",
      "source": [
        "friends.sort()\n",
        "\n",
        "print(friends)"
      ],
      "metadata": {
        "colab": {
          "base_uri": "https://localhost:8080/"
        },
        "id": "zTb-M5bgZ5NX",
        "outputId": "76a5d446-05f1-4e62-d2b8-8e0673fcb4b4"
      },
      "execution_count": 33,
      "outputs": [
        {
          "output_type": "stream",
          "name": "stdout",
          "text": [
            "['Bruno', 'Marcelo']\n"
          ]
        }
      ]
    },
    {
      "cell_type": "code",
      "source": [
        "my_list = [1, 1, 2, 3, 5]\n",
        "\n",
        "print(sum(my_list) / len(my_list))"
      ],
      "metadata": {
        "colab": {
          "base_uri": "https://localhost:8080/"
        },
        "id": "8GIBAzQrZ_Uf",
        "outputId": "a0ebf2a4-3a8c-4cda-e347-59922a3d3573"
      },
      "execution_count": 34,
      "outputs": [
        {
          "output_type": "stream",
          "name": "stdout",
          "text": [
            "2.4\n"
          ]
        }
      ]
    },
    {
      "cell_type": "code",
      "source": [],
      "metadata": {
        "id": "_FgepE47aPqr"
      },
      "execution_count": null,
      "outputs": []
    },
    {
      "cell_type": "code",
      "source": [],
      "metadata": {
        "id": "lGgg6aELa-kg"
      },
      "execution_count": null,
      "outputs": []
    }
  ]
}